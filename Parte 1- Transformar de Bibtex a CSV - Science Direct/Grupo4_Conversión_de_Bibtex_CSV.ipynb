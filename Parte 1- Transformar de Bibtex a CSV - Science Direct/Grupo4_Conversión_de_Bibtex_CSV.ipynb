{
  "nbformat": 4,
  "nbformat_minor": 0,
  "metadata": {
    "colab": {
      "provenance": []
    },
    "kernelspec": {
      "name": "python3",
      "display_name": "Python 3"
    },
    "language_info": {
      "name": "python"
    }
  },
  "cells": [
    {
      "cell_type": "code",
      "source": [
        "!pip install bibtexparser"
      ],
      "metadata": {
        "colab": {
          "base_uri": "https://localhost:8080/"
        },
        "id": "lhhxgpAT58EB",
        "outputId": "51ec5028-50c2-4377-f654-99449e87e2d1"
      },
      "execution_count": null,
      "outputs": [
        {
          "output_type": "stream",
          "name": "stdout",
          "text": [
            "Collecting bibtexparser\n",
            "  Downloading bibtexparser-1.4.1.tar.gz (55 kB)\n",
            "\u001b[?25l     \u001b[90m━━━━━━━━━━━━━━━━━━━━━━━━━━━━━━━━━━━━━━━━\u001b[0m \u001b[32m0.0/55.1 kB\u001b[0m \u001b[31m?\u001b[0m eta \u001b[36m-:--:--\u001b[0m\r\u001b[2K     \u001b[90m━━━━━━━━━━━━━━━━━━━━━━━━━━━━━━━━━━━━━━━━\u001b[0m \u001b[32m55.1/55.1 kB\u001b[0m \u001b[31m1.7 MB/s\u001b[0m eta \u001b[36m0:00:00\u001b[0m\n",
            "\u001b[?25h  Preparing metadata (setup.py) ... \u001b[?25l\u001b[?25hdone\n",
            "Requirement already satisfied: pyparsing>=2.0.3 in /usr/local/lib/python3.10/dist-packages (from bibtexparser) (3.1.2)\n",
            "Building wheels for collected packages: bibtexparser\n",
            "  Building wheel for bibtexparser (setup.py) ... \u001b[?25l\u001b[?25hdone\n",
            "  Created wheel for bibtexparser: filename=bibtexparser-1.4.1-py3-none-any.whl size=43252 sha256=3e314f5d3e5a3eeabc0130869bd6f7de80862d511dabcc98d513abce5d374dc5\n",
            "  Stored in directory: /root/.cache/pip/wheels/08/c6/c3/56e639fab68d1fdbf13ea147636d9795ccdbd3c1d3178d1332\n",
            "Successfully built bibtexparser\n",
            "Installing collected packages: bibtexparser\n",
            "Successfully installed bibtexparser-1.4.1\n"
          ]
        }
      ]
    },
    {
      "cell_type": "code",
      "source": [
        "from google.colab import drive\n",
        "drive.mount('/content/drive')"
      ],
      "metadata": {
        "colab": {
          "base_uri": "https://localhost:8080/"
        },
        "id": "3ywjoYmqTiD6",
        "outputId": "158afa05-c503-4978-ce81-4bc89370d055"
      },
      "execution_count": null,
      "outputs": [
        {
          "output_type": "stream",
          "name": "stdout",
          "text": [
            "Mounted at /content/drive\n"
          ]
        }
      ]
    },
    {
      "cell_type": "code",
      "execution_count": null,
      "metadata": {
        "id": "o1DUheAm5qZs"
      },
      "outputs": [],
      "source": [
        "import bibtexparser\n",
        "import pandas as pd"
      ]
    },
    {
      "cell_type": "code",
      "source": [
        "with open(\"/content/drive/MyDrive/SCIENCE_DIRECT/ScienceDirect_citations_1721933036744.bib\") as bibtex_file:\n",
        "    bib_database = bibtexparser.load(bibtex_file)\n",
        "\n",
        "df = pd.DataFrame(bib_database.entries)\n",
        "selection = df[['doi', 'number','title','keywords','abstract','year']]\n",
        "selection.to_csv('/content/science1.csv', index=False)"
      ],
      "metadata": {
        "id": "ZjXA6U4K54Uz"
      },
      "execution_count": null,
      "outputs": []
    },
    {
      "cell_type": "code",
      "source": [
        "with open(\"/content/drive/MyDrive/SCIENCE_DIRECT/ScienceDirect_citations_1721933066874.bib\") as bibtex_file:\n",
        "    bib_database = bibtexparser.load(bibtex_file)\n",
        "\n",
        "df = pd.DataFrame(bib_database.entries)\n",
        "selection = df[['doi', 'number','title','keywords','abstract','year']]\n",
        "selection.to_csv('/content/science2.csv', index=False)"
      ],
      "metadata": {
        "id": "TsdGtapUUc62"
      },
      "execution_count": null,
      "outputs": []
    },
    {
      "cell_type": "code",
      "source": [
        "with open(\"/content/drive/MyDrive/SCIENCE_DIRECT/ScienceDirect_citations_1721933086347.bib\") as bibtex_file:\n",
        "    bib_database = bibtexparser.load(bibtex_file)\n",
        "\n",
        "df = pd.DataFrame(bib_database.entries)\n",
        "selection = df[['doi', 'number','title','keywords','abstract','year']]\n",
        "selection.to_csv('/content/science3.csv', index=False)"
      ],
      "metadata": {
        "id": "AW9Q77c9UdrN"
      },
      "execution_count": null,
      "outputs": []
    },
    {
      "cell_type": "code",
      "source": [
        "with open(\"/content/drive/MyDrive/SCIENCE_DIRECT/ScienceDirect_citations_1721933123541.bib\") as bibtex_file:\n",
        "    bib_database = bibtexparser.load(bibtex_file)\n",
        "\n",
        "df = pd.DataFrame(bib_database.entries)\n",
        "selection = df[['doi', 'number','title','keywords','abstract','year']]\n",
        "selection.to_csv('/content/science4.csv', index=False)"
      ],
      "metadata": {
        "id": "ywp4KcrcUeQ2"
      },
      "execution_count": null,
      "outputs": []
    },
    {
      "cell_type": "code",
      "source": [
        "with open(\"/content/drive/MyDrive/SCIENCE_DIRECT/ScienceDirect_citations_1721933143054.bib\") as bibtex_file:\n",
        "    bib_database = bibtexparser.load(bibtex_file)\n",
        "\n",
        "df = pd.DataFrame(bib_database.entries)\n",
        "selection = df[['doi', 'number','title','keywords','abstract','year']]\n",
        "selection.to_csv('/content/science5.csv', index=False)"
      ],
      "metadata": {
        "id": "M8zSqLZNUe9M"
      },
      "execution_count": null,
      "outputs": []
    },
    {
      "cell_type": "code",
      "source": [
        "with open(\"/content/drive/MyDrive/SCIENCE_DIRECT/ScienceDirect_citations_1721933221658.bib\") as bibtex_file:\n",
        "    bib_database = bibtexparser.load(bibtex_file)\n",
        "\n",
        "df = pd.DataFrame(bib_database.entries)\n",
        "selection = df[['doi', 'number','title','keywords','abstract','year']]\n",
        "selection.to_csv('/content/science6.csv', index=False)"
      ],
      "metadata": {
        "id": "sT5LvWCqUfnc"
      },
      "execution_count": null,
      "outputs": []
    },
    {
      "cell_type": "code",
      "source": [
        "with open(\"/content/drive/MyDrive/SCIENCE_DIRECT/ScienceDirect_citations_1721933235185.bib\") as bibtex_file:\n",
        "    bib_database = bibtexparser.load(bibtex_file)\n",
        "\n",
        "df = pd.DataFrame(bib_database.entries)\n",
        "selection = df[['doi', 'number','title','keywords','abstract','year']]\n",
        "selection.to_csv('/content/science7.csv', index=False)"
      ],
      "metadata": {
        "id": "j0YzImK4UgO9"
      },
      "execution_count": null,
      "outputs": []
    },
    {
      "cell_type": "code",
      "source": [
        "with open(\"/content/drive/MyDrive/SCIENCE_DIRECT/ScienceDirect_citations_1721933248868.bib\") as bibtex_file:\n",
        "    bib_database = bibtexparser.load(bibtex_file)\n",
        "\n",
        "df = pd.DataFrame(bib_database.entries)\n",
        "selection = df[['doi', 'number','title','keywords','abstract','year']]\n",
        "selection.to_csv('/content/science8.csv', index=False)"
      ],
      "metadata": {
        "id": "Xh9YG-TsUg63"
      },
      "execution_count": null,
      "outputs": []
    },
    {
      "cell_type": "code",
      "source": [
        "with open(\"/content/drive/MyDrive/SCIENCE_DIRECT/ScienceDirect_citations_1721933261494.bib\") as bibtex_file:\n",
        "    bib_database = bibtexparser.load(bibtex_file)\n",
        "\n",
        "df = pd.DataFrame(bib_database.entries)\n",
        "selection = df[['doi', 'number','title','keywords','abstract','year']]\n",
        "selection.to_csv('/content/science9.csv', index=False)"
      ],
      "metadata": {
        "id": "iIHsN_3jUhkE"
      },
      "execution_count": null,
      "outputs": []
    },
    {
      "cell_type": "code",
      "source": [
        "with open(\"/content/drive/MyDrive/SCIENCE_DIRECT/ScienceDirect_citations_1721933280132.bib\") as bibtex_file:\n",
        "    bib_database = bibtexparser.load(bibtex_file)\n",
        "\n",
        "df = pd.DataFrame(bib_database.entries)\n",
        "selection = df[['doi', 'number','title','keywords','abstract','year']]\n",
        "selection.to_csv('/content/science10.csv', index=False)"
      ],
      "metadata": {
        "id": "A8GbBz1LUiH8"
      },
      "execution_count": null,
      "outputs": []
    },
    {
      "cell_type": "code",
      "source": [
        "import pandas as pd\n",
        "\n",
        "# Lista de rutas a los archivos CSV\n",
        "csv_files = [\n",
        "    \"/content/science1.csv\",\n",
        "    \"/content/science2.csv\",\n",
        "    \"/content/science3.csv\",\n",
        "    \"/content/science4.csv\",\n",
        "    \"/content/science5.csv\",\n",
        "    \"/content/science6.csv\",\n",
        "    \"/content/science7.csv\",\n",
        "    \"/content/science8.csv\",\n",
        "    \"/content/science9.csv\",\n",
        "    \"/content/science10.csv\",\n",
        "    # Agrega aquí las rutas a los otros archivos CSV\n",
        "]\n",
        "\n",
        "# Lista para almacenar los DataFrames\n",
        "dataframes = []\n",
        "\n",
        "# Leer cada archivo CSV y agregarlo a la lista de DataFrames\n",
        "for file in csv_files:\n",
        "    df = pd.read_csv(file)\n",
        "    dataframes.append(df)\n",
        "\n",
        "# Combinar todos los DataFrames en uno solo\n",
        "combined_df = pd.concat(dataframes, ignore_index=True)\n",
        "\n",
        "# Guardar el DataFrame combinado en un nuevo archivo CSV\n",
        "combined_df.to_csv('/content/science_combined.csv', index=False)"
      ],
      "metadata": {
        "id": "IftPHCELZXMf"
      },
      "execution_count": null,
      "outputs": []
    }
  ]
}